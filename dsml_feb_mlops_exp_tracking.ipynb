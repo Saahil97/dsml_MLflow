{
 "cells": [
  {
   "cell_type": "markdown",
   "id": "18d64756",
   "metadata": {},
   "source": [
    "# Experiment Tracking using MLFlow"
   ]
  },
  {
   "cell_type": "code",
   "execution_count": 7,
   "id": "2fff86b1",
   "metadata": {},
   "outputs": [],
   "source": [
    "import pandas as pd\n",
    "import numpy as np"
   ]
  },
  {
   "cell_type": "code",
   "execution_count": 8,
   "id": "bd3da058",
   "metadata": {},
   "outputs": [
    {
     "data": {
      "text/html": [
       "<div>\n",
       "<style scoped>\n",
       "    .dataframe tbody tr th:only-of-type {\n",
       "        vertical-align: middle;\n",
       "    }\n",
       "\n",
       "    .dataframe tbody tr th {\n",
       "        vertical-align: top;\n",
       "    }\n",
       "\n",
       "    .dataframe thead th {\n",
       "        text-align: right;\n",
       "    }\n",
       "</style>\n",
       "<table border=\"1\" class=\"dataframe\">\n",
       "  <thead>\n",
       "    <tr style=\"text-align: right;\">\n",
       "      <th></th>\n",
       "      <th>Loan_ID</th>\n",
       "      <th>Gender</th>\n",
       "      <th>Married</th>\n",
       "      <th>Dependents</th>\n",
       "      <th>Education</th>\n",
       "      <th>Self_Employed</th>\n",
       "      <th>ApplicantIncome</th>\n",
       "      <th>CoapplicantIncome</th>\n",
       "      <th>LoanAmount</th>\n",
       "      <th>Loan_Amount_Term</th>\n",
       "      <th>Credit_History</th>\n",
       "      <th>Property_Area</th>\n",
       "      <th>Loan_Status</th>\n",
       "    </tr>\n",
       "  </thead>\n",
       "  <tbody>\n",
       "    <tr>\n",
       "      <th>0</th>\n",
       "      <td>LP002529</td>\n",
       "      <td>Male</td>\n",
       "      <td>Yes</td>\n",
       "      <td>2</td>\n",
       "      <td>Graduate</td>\n",
       "      <td>No</td>\n",
       "      <td>6700</td>\n",
       "      <td>1750.0</td>\n",
       "      <td>230.0</td>\n",
       "      <td>300.0</td>\n",
       "      <td>1.0</td>\n",
       "      <td>Semiurban</td>\n",
       "      <td>Y</td>\n",
       "    </tr>\n",
       "    <tr>\n",
       "      <th>1</th>\n",
       "      <td>LP001385</td>\n",
       "      <td>Male</td>\n",
       "      <td>No</td>\n",
       "      <td>0</td>\n",
       "      <td>Graduate</td>\n",
       "      <td>No</td>\n",
       "      <td>5316</td>\n",
       "      <td>0.0</td>\n",
       "      <td>136.0</td>\n",
       "      <td>360.0</td>\n",
       "      <td>1.0</td>\n",
       "      <td>Urban</td>\n",
       "      <td>Y</td>\n",
       "    </tr>\n",
       "    <tr>\n",
       "      <th>2</th>\n",
       "      <td>LP001926</td>\n",
       "      <td>Male</td>\n",
       "      <td>Yes</td>\n",
       "      <td>0</td>\n",
       "      <td>Graduate</td>\n",
       "      <td>No</td>\n",
       "      <td>3704</td>\n",
       "      <td>2000.0</td>\n",
       "      <td>120.0</td>\n",
       "      <td>360.0</td>\n",
       "      <td>1.0</td>\n",
       "      <td>Rural</td>\n",
       "      <td>Y</td>\n",
       "    </tr>\n",
       "    <tr>\n",
       "      <th>3</th>\n",
       "      <td>LP001144</td>\n",
       "      <td>Male</td>\n",
       "      <td>Yes</td>\n",
       "      <td>0</td>\n",
       "      <td>Graduate</td>\n",
       "      <td>No</td>\n",
       "      <td>5821</td>\n",
       "      <td>0.0</td>\n",
       "      <td>144.0</td>\n",
       "      <td>360.0</td>\n",
       "      <td>1.0</td>\n",
       "      <td>Urban</td>\n",
       "      <td>Y</td>\n",
       "    </tr>\n",
       "    <tr>\n",
       "      <th>4</th>\n",
       "      <td>LP002562</td>\n",
       "      <td>Male</td>\n",
       "      <td>Yes</td>\n",
       "      <td>1</td>\n",
       "      <td>Not Graduate</td>\n",
       "      <td>No</td>\n",
       "      <td>5333</td>\n",
       "      <td>1131.0</td>\n",
       "      <td>186.0</td>\n",
       "      <td>360.0</td>\n",
       "      <td>NaN</td>\n",
       "      <td>Urban</td>\n",
       "      <td>Y</td>\n",
       "    </tr>\n",
       "  </tbody>\n",
       "</table>\n",
       "</div>"
      ],
      "text/plain": [
       "    Loan_ID Gender Married Dependents     Education Self_Employed  \\\n",
       "0  LP002529   Male     Yes          2      Graduate            No   \n",
       "1  LP001385   Male      No          0      Graduate            No   \n",
       "2  LP001926   Male     Yes          0      Graduate            No   \n",
       "3  LP001144   Male     Yes          0      Graduate            No   \n",
       "4  LP002562   Male     Yes          1  Not Graduate            No   \n",
       "\n",
       "   ApplicantIncome  CoapplicantIncome  LoanAmount  Loan_Amount_Term  \\\n",
       "0             6700             1750.0       230.0             300.0   \n",
       "1             5316                0.0       136.0             360.0   \n",
       "2             3704             2000.0       120.0             360.0   \n",
       "3             5821                0.0       144.0             360.0   \n",
       "4             5333             1131.0       186.0             360.0   \n",
       "\n",
       "   Credit_History Property_Area Loan_Status  \n",
       "0             1.0     Semiurban           Y  \n",
       "1             1.0         Urban           Y  \n",
       "2             1.0         Rural           Y  \n",
       "3             1.0         Urban           Y  \n",
       "4             NaN         Urban           Y  "
      ]
     },
     "execution_count": 8,
     "metadata": {},
     "output_type": "execute_result"
    }
   ],
   "source": [
    "train_df = pd.read_csv('data.csv') \n",
    "train_df.head()"
   ]
  },
  {
   "cell_type": "code",
   "execution_count": 9,
   "id": "2f241716",
   "metadata": {},
   "outputs": [
    {
     "name": "stdout",
     "output_type": "stream",
     "text": [
      "<class 'pandas.core.frame.DataFrame'>\n",
      "RangeIndex: 430 entries, 0 to 429\n",
      "Data columns (total 13 columns):\n",
      " #   Column             Non-Null Count  Dtype  \n",
      "---  ------             --------------  -----  \n",
      " 0   Loan_ID            430 non-null    object \n",
      " 1   Gender             420 non-null    object \n",
      " 2   Married            427 non-null    object \n",
      " 3   Dependents         416 non-null    object \n",
      " 4   Education          430 non-null    object \n",
      " 5   Self_Employed      410 non-null    object \n",
      " 6   ApplicantIncome    430 non-null    int64  \n",
      " 7   CoapplicantIncome  430 non-null    float64\n",
      " 8   LoanAmount         414 non-null    float64\n",
      " 9   Loan_Amount_Term   422 non-null    float64\n",
      " 10  Credit_History     394 non-null    float64\n",
      " 11  Property_Area      430 non-null    object \n",
      " 12  Loan_Status        430 non-null    object \n",
      "dtypes: float64(4), int64(1), object(8)\n",
      "memory usage: 43.8+ KB\n"
     ]
    }
   ],
   "source": [
    "train_df.info()"
   ]
  },
  {
   "cell_type": "markdown",
   "id": "c842aeeb",
   "metadata": {},
   "source": [
    "## Binary Encoding of Categorical Variables"
   ]
  },
  {
   "cell_type": "code",
   "execution_count": 10,
   "id": "6797fbf4",
   "metadata": {},
   "outputs": [],
   "source": [
    "train_df['Gender']= train_df['Gender'].map({'Male':0, 'Female':1})\n",
    "train_df['Married']= train_df['Married'].map({'No':0, 'Yes':1})\n",
    "train_df['Loan_Status']= train_df['Loan_Status'].map({'N':0, 'Y':1})"
   ]
  },
  {
   "cell_type": "code",
   "execution_count": 11,
   "id": "a075e6bf",
   "metadata": {},
   "outputs": [
    {
     "name": "stdout",
     "output_type": "stream",
     "text": [
      "<class 'pandas.core.frame.DataFrame'>\n",
      "RangeIndex: 430 entries, 0 to 429\n",
      "Data columns (total 13 columns):\n",
      " #   Column             Non-Null Count  Dtype  \n",
      "---  ------             --------------  -----  \n",
      " 0   Loan_ID            430 non-null    object \n",
      " 1   Gender             420 non-null    float64\n",
      " 2   Married            427 non-null    float64\n",
      " 3   Dependents         416 non-null    object \n",
      " 4   Education          430 non-null    object \n",
      " 5   Self_Employed      410 non-null    object \n",
      " 6   ApplicantIncome    430 non-null    int64  \n",
      " 7   CoapplicantIncome  430 non-null    float64\n",
      " 8   LoanAmount         414 non-null    float64\n",
      " 9   Loan_Amount_Term   422 non-null    float64\n",
      " 10  Credit_History     394 non-null    float64\n",
      " 11  Property_Area      430 non-null    object \n",
      " 12  Loan_Status        430 non-null    int64  \n",
      "dtypes: float64(6), int64(2), object(5)\n",
      "memory usage: 43.8+ KB\n"
     ]
    }
   ],
   "source": [
    "train_df.info()"
   ]
  },
  {
   "cell_type": "markdown",
   "id": "4ff6d026",
   "metadata": {},
   "source": [
    "## Checking for Missing Values"
   ]
  },
  {
   "cell_type": "code",
   "execution_count": 12,
   "id": "178e5e71",
   "metadata": {},
   "outputs": [
    {
     "data": {
      "text/plain": [
       "Loan_ID               0\n",
       "Gender               10\n",
       "Married               3\n",
       "Dependents           14\n",
       "Education             0\n",
       "Self_Employed        20\n",
       "ApplicantIncome       0\n",
       "CoapplicantIncome     0\n",
       "LoanAmount           16\n",
       "Loan_Amount_Term      8\n",
       "Credit_History       36\n",
       "Property_Area         0\n",
       "Loan_Status           0\n",
       "dtype: int64"
      ]
     },
     "execution_count": 12,
     "metadata": {},
     "output_type": "execute_result"
    }
   ],
   "source": [
    "train_df.isnull().sum()"
   ]
  },
  {
   "cell_type": "code",
   "execution_count": 13,
   "id": "21dcf5c6",
   "metadata": {},
   "outputs": [
    {
     "data": {
      "text/plain": [
       "Loan_ID              0\n",
       "Gender               0\n",
       "Married              0\n",
       "Dependents           0\n",
       "Education            0\n",
       "Self_Employed        0\n",
       "ApplicantIncome      0\n",
       "CoapplicantIncome    0\n",
       "LoanAmount           0\n",
       "Loan_Amount_Term     0\n",
       "Credit_History       0\n",
       "Property_Area        0\n",
       "Loan_Status          0\n",
       "dtype: int64"
      ]
     },
     "execution_count": 13,
     "metadata": {},
     "output_type": "execute_result"
    }
   ],
   "source": [
    "## dropping all the missing values\n",
    "train_df = train_df.dropna()\n",
    "train_df.isnull().sum()"
   ]
  },
  {
   "cell_type": "markdown",
   "id": "8604d52f",
   "metadata": {},
   "source": [
    "## Segregating the target variable from the features"
   ]
  },
  {
   "cell_type": "code",
   "execution_count": 14,
   "id": "958fd6fa",
   "metadata": {},
   "outputs": [
    {
     "data": {
      "text/plain": [
       "((335, 5), (335,))"
      ]
     },
     "execution_count": 14,
     "metadata": {},
     "output_type": "execute_result"
    }
   ],
   "source": [
    "X = train_df[['Gender', 'Married', 'ApplicantIncome', 'LoanAmount', 'Credit_History']]\n",
    "y = train_df.Loan_Status\n",
    "X.shape, y.shape"
   ]
  },
  {
   "cell_type": "code",
   "execution_count": null,
   "id": "9a154753",
   "metadata": {},
   "outputs": [],
   "source": []
  },
  {
   "cell_type": "markdown",
   "id": "608a360c",
   "metadata": {},
   "source": [
    "## Splitting the data"
   ]
  },
  {
   "cell_type": "code",
   "execution_count": 15,
   "id": "8dbfd880",
   "metadata": {},
   "outputs": [],
   "source": [
    "from sklearn.model_selection import train_test_split\n",
    "\n",
    "X_train, X_val, y_train, y_val = train_test_split(X, y, test_size=0.2, random_state=5)"
   ]
  },
  {
   "cell_type": "markdown",
   "id": "799bf91c",
   "metadata": {},
   "source": [
    "## Model Training"
   ]
  },
  {
   "cell_type": "code",
   "execution_count": 16,
   "id": "4a91d232",
   "metadata": {},
   "outputs": [
    {
     "data": {
      "text/html": [
       "<style>#sk-container-id-1 {color: black;background-color: white;}#sk-container-id-1 pre{padding: 0;}#sk-container-id-1 div.sk-toggleable {background-color: white;}#sk-container-id-1 label.sk-toggleable__label {cursor: pointer;display: block;width: 100%;margin-bottom: 0;padding: 0.3em;box-sizing: border-box;text-align: center;}#sk-container-id-1 label.sk-toggleable__label-arrow:before {content: \"▸\";float: left;margin-right: 0.25em;color: #696969;}#sk-container-id-1 label.sk-toggleable__label-arrow:hover:before {color: black;}#sk-container-id-1 div.sk-estimator:hover label.sk-toggleable__label-arrow:before {color: black;}#sk-container-id-1 div.sk-toggleable__content {max-height: 0;max-width: 0;overflow: hidden;text-align: left;background-color: #f0f8ff;}#sk-container-id-1 div.sk-toggleable__content pre {margin: 0.2em;color: black;border-radius: 0.25em;background-color: #f0f8ff;}#sk-container-id-1 input.sk-toggleable__control:checked~div.sk-toggleable__content {max-height: 200px;max-width: 100%;overflow: auto;}#sk-container-id-1 input.sk-toggleable__control:checked~label.sk-toggleable__label-arrow:before {content: \"▾\";}#sk-container-id-1 div.sk-estimator input.sk-toggleable__control:checked~label.sk-toggleable__label {background-color: #d4ebff;}#sk-container-id-1 div.sk-label input.sk-toggleable__control:checked~label.sk-toggleable__label {background-color: #d4ebff;}#sk-container-id-1 input.sk-hidden--visually {border: 0;clip: rect(1px 1px 1px 1px);clip: rect(1px, 1px, 1px, 1px);height: 1px;margin: -1px;overflow: hidden;padding: 0;position: absolute;width: 1px;}#sk-container-id-1 div.sk-estimator {font-family: monospace;background-color: #f0f8ff;border: 1px dotted black;border-radius: 0.25em;box-sizing: border-box;margin-bottom: 0.5em;}#sk-container-id-1 div.sk-estimator:hover {background-color: #d4ebff;}#sk-container-id-1 div.sk-parallel-item::after {content: \"\";width: 100%;border-bottom: 1px solid gray;flex-grow: 1;}#sk-container-id-1 div.sk-label:hover label.sk-toggleable__label {background-color: #d4ebff;}#sk-container-id-1 div.sk-serial::before {content: \"\";position: absolute;border-left: 1px solid gray;box-sizing: border-box;top: 0;bottom: 0;left: 50%;z-index: 0;}#sk-container-id-1 div.sk-serial {display: flex;flex-direction: column;align-items: center;background-color: white;padding-right: 0.2em;padding-left: 0.2em;position: relative;}#sk-container-id-1 div.sk-item {position: relative;z-index: 1;}#sk-container-id-1 div.sk-parallel {display: flex;align-items: stretch;justify-content: center;background-color: white;position: relative;}#sk-container-id-1 div.sk-item::before, #sk-container-id-1 div.sk-parallel-item::before {content: \"\";position: absolute;border-left: 1px solid gray;box-sizing: border-box;top: 0;bottom: 0;left: 50%;z-index: -1;}#sk-container-id-1 div.sk-parallel-item {display: flex;flex-direction: column;z-index: 1;position: relative;background-color: white;}#sk-container-id-1 div.sk-parallel-item:first-child::after {align-self: flex-end;width: 50%;}#sk-container-id-1 div.sk-parallel-item:last-child::after {align-self: flex-start;width: 50%;}#sk-container-id-1 div.sk-parallel-item:only-child::after {width: 0;}#sk-container-id-1 div.sk-dashed-wrapped {border: 1px dashed gray;margin: 0 0.4em 0.5em 0.4em;box-sizing: border-box;padding-bottom: 0.4em;background-color: white;}#sk-container-id-1 div.sk-label label {font-family: monospace;font-weight: bold;display: inline-block;line-height: 1.2em;}#sk-container-id-1 div.sk-label-container {text-align: center;}#sk-container-id-1 div.sk-container {/* jupyter's `normalize.less` sets `[hidden] { display: none; }` but bootstrap.min.css set `[hidden] { display: none !important; }` so we also need the `!important` here to be able to override the default hidden behavior on the sphinx rendered scikit-learn.org. See: https://github.com/scikit-learn/scikit-learn/issues/21755 */display: inline-block !important;position: relative;}#sk-container-id-1 div.sk-text-repr-fallback {display: none;}</style><div id=\"sk-container-id-1\" class=\"sk-top-container\"><div class=\"sk-text-repr-fallback\"><pre>RandomForestClassifier(max_depth=4, random_state=5)</pre><b>In a Jupyter environment, please rerun this cell to show the HTML representation or trust the notebook. <br />On GitHub, the HTML representation is unable to render, please try loading this page with nbviewer.org.</b></div><div class=\"sk-container\" hidden><div class=\"sk-item\"><div class=\"sk-estimator sk-toggleable\"><input class=\"sk-toggleable__control sk-hidden--visually\" id=\"sk-estimator-id-1\" type=\"checkbox\" checked><label for=\"sk-estimator-id-1\" class=\"sk-toggleable__label sk-toggleable__label-arrow\">RandomForestClassifier</label><div class=\"sk-toggleable__content\"><pre>RandomForestClassifier(max_depth=4, random_state=5)</pre></div></div></div></div></div>"
      ],
      "text/plain": [
       "RandomForestClassifier(max_depth=4, random_state=5)"
      ]
     },
     "execution_count": 16,
     "metadata": {},
     "output_type": "execute_result"
    }
   ],
   "source": [
    "from sklearn.ensemble import RandomForestClassifier\n",
    "\n",
    "model = RandomForestClassifier(max_depth=4, random_state=5)\n",
    "model.fit(X_train, y_train)"
   ]
  },
  {
   "cell_type": "markdown",
   "id": "033edca9",
   "metadata": {},
   "source": [
    "## Cross Validation"
   ]
  },
  {
   "cell_type": "code",
   "execution_count": 17,
   "id": "c189b53f",
   "metadata": {},
   "outputs": [
    {
     "data": {
      "text/plain": [
       "0.7313432835820896"
      ]
     },
     "execution_count": 17,
     "metadata": {},
     "output_type": "execute_result"
    }
   ],
   "source": [
    "from sklearn.metrics import accuracy_score\n",
    "\n",
    "pred_val = model.predict(X_val)\n",
    "accuracy_score(y_val, pred_val)"
   ]
  },
  {
   "cell_type": "code",
   "execution_count": 18,
   "id": "ed0db039",
   "metadata": {},
   "outputs": [
    {
     "data": {
      "text/plain": [
       "0.8134328358208955"
      ]
     },
     "execution_count": 18,
     "metadata": {},
     "output_type": "execute_result"
    }
   ],
   "source": [
    "pred_train = model.predict(X_train)\n",
    "accuracy_score(y_train, pred_train)"
   ]
  },
  {
   "cell_type": "code",
   "execution_count": 3,
   "id": "afba3e0a",
   "metadata": {},
   "outputs": [
    {
     "name": "stdout",
     "output_type": "stream",
     "text": [
      "Note: you may need to restart the kernel to use updated packages.Collecting mlflow\n",
      "  Using cached mlflow-2.1.1-py3-none-any.whl (16.7 MB)\n",
      "Requirement already satisfied: click<9,>=7.0 in c:\\users\\91789\\appdata\\roaming\\python\\python39\\site-packages (from mlflow) (8.1.3)\n",
      "Collecting cloudpickle<3\n",
      "  Using cached cloudpickle-2.2.1-py3-none-any.whl (25 kB)\n",
      "Requirement already satisfied: Flask<3 in c:\\python39\\lib\\site-packages (from mlflow) (2.2.2)\n",
      "Collecting pyarrow<11,>=4.0.0\n",
      "  Using cached pyarrow-10.0.1-cp39-cp39-win_amd64.whl (20.3 MB)\n",
      "Requirement already satisfied: pyyaml<7,>=5.1 in c:\\python39\\lib\\site-packages (from mlflow) (5.4.1)\n",
      "Requirement already satisfied: protobuf<5,>=3.12.0 in c:\\users\\91789\\appdata\\roaming\\python\\python39\\site-packages (from mlflow) (3.20.3)\n",
      "Collecting importlib-metadata!=4.7.0,<6,>=3.7.0\n",
      "  Using cached importlib_metadata-5.2.0-py3-none-any.whl (21 kB)\n",
      "Collecting waitress<3\n",
      "  Using cached waitress-2.1.2-py3-none-any.whl (57 kB)\n",
      "Requirement already satisfied: pandas<2 in c:\\users\\91789\\appdata\\roaming\\python\\python39\\site-packages (from mlflow) (1.5.3)\n",
      "Collecting sqlparse<1,>=0.4.0\n",
      "  Using cached sqlparse-0.4.3-py3-none-any.whl (42 kB)\n",
      "Requirement already satisfied: Jinja2<4,>=3.0 in c:\\users\\91789\\appdata\\roaming\\python\\python39\\site-packages (from mlflow) (3.1.2)\n",
      "Requirement already satisfied: entrypoints<1 in c:\\python39\\lib\\site-packages (from mlflow) (0.4)\n",
      "Collecting docker<7,>=4.0.0\n",
      "  Using cached docker-6.0.1-py3-none-any.whl (147 kB)\n",
      "Requirement already satisfied: gitpython<4,>=2.1.0 in c:\\users\\91789\\appdata\\roaming\\python\\python39\\site-packages (from mlflow) (3.1.30)\n",
      "Collecting databricks-cli<1,>=0.8.7\n",
      "  Using cached databricks_cli-0.17.4-py3-none-any.whl\n",
      "Collecting packaging<23\n",
      "  Using cached packaging-22.0-py3-none-any.whl (42 kB)\n",
      "Collecting querystring-parser<2\n",
      "  Using cached querystring_parser-1.2.4-py2.py3-none-any.whl (7.9 kB)\n",
      "Requirement already satisfied: requests<3,>=2.17.3 in c:\\users\\91789\\appdata\\roaming\\python\\python39\\site-packages (from mlflow) (2.28.2)\n",
      "Requirement already satisfied: pytz<2023 in c:\\python39\\lib\\site-packages (from mlflow) (2022.7.1)\n",
      "Requirement already satisfied: numpy<2 in c:\\python39\\lib\\site-packages (from mlflow) (1.24.2)\n",
      "Collecting scikit-learn<2\n",
      "  Using cached scikit_learn-1.2.1-cp39-cp39-win_amd64.whl (8.4 MB)\n",
      "Collecting sqlalchemy<2,>=1.4.0\n",
      "  Using cached SQLAlchemy-1.4.46-cp39-cp39-win_amd64.whl (1.6 MB)\n",
      "Collecting markdown<4,>=3.3\n",
      "  Using cached Markdown-3.4.1-py3-none-any.whl (93 kB)\n",
      "Requirement already satisfied: alembic<2 in c:\\python39\\lib\\site-packages (from mlflow) (1.4.3)\n",
      "Collecting shap<1,>=0.40\n",
      "  Using cached shap-0.41.0-cp39-cp39-win_amd64.whl (435 kB)\n",
      "Collecting matplotlib<4\n",
      "  Using cached matplotlib-3.7.0-cp39-cp39-win_amd64.whl (7.6 MB)\n",
      "Requirement already satisfied: scipy<2 in c:\\python39\\lib\\site-packages (from mlflow) (1.6.2)\n",
      "Requirement already satisfied: python-editor>=0.3 in c:\\python39\\lib\\site-packages (from alembic<2->mlflow) (1.0.4)\n",
      "Requirement already satisfied: Mako in c:\\python39\\lib\\site-packages (from alembic<2->mlflow) (1.1.3)\n",
      "Requirement already satisfied: python-dateutil in c:\\users\\91789\\appdata\\roaming\\python\\python39\\site-packages (from alembic<2->mlflow) (2.8.2)\n",
      "Requirement already satisfied: colorama in c:\\users\\91789\\appdata\\roaming\\python\\python39\\site-packages (from click<9,>=7.0->mlflow) (0.4.6)\n",
      "Requirement already satisfied: six>=1.10.0 in c:\\python39\\lib\\site-packages (from databricks-cli<1,>=0.8.7->mlflow) (1.15.0)\n",
      "Collecting pyjwt>=1.7.0\n",
      "  Using cached PyJWT-2.6.0-py3-none-any.whl (20 kB)\n",
      "Collecting tabulate>=0.7.7\n",
      "  Using cached tabulate-0.9.0-py3-none-any.whl (35 kB)\n",
      "Collecting oauthlib>=3.1.0\n",
      "  Using cached oauthlib-3.2.2-py3-none-any.whl (151 kB)\n",
      "Requirement already satisfied: websocket-client>=0.32.0 in c:\\python39\\lib\\site-packages (from docker<7,>=4.0.0->mlflow) (1.5.1)\n",
      "Requirement already satisfied: pywin32>=304 in c:\\users\\91789\\appdata\\roaming\\python\\python39\\site-packages (from docker<7,>=4.0.0->mlflow) (305)\n",
      "Requirement already satisfied: urllib3>=1.26.0 in c:\\python39\\lib\\site-packages (from docker<7,>=4.0.0->mlflow) (1.26.2)\n",
      "Requirement already satisfied: Werkzeug>=2.2.2 in c:\\python39\\lib\\site-packages (from Flask<3->mlflow) (2.2.2)\n",
      "Requirement already satisfied: itsdangerous>=2.0 in c:\\python39\\lib\\site-packages (from Flask<3->mlflow) (2.1.2)\n",
      "Requirement already satisfied: gitdb<5,>=4.0.1 in c:\\users\\91789\\appdata\\roaming\\python\\python39\\site-packages (from gitpython<4,>=2.1.0->mlflow) (4.0.10)\n",
      "Requirement already satisfied: zipp>=0.5 in c:\\users\\91789\\appdata\\roaming\\python\\python39\\site-packages (from importlib-metadata!=4.7.0,<6,>=3.7.0->mlflow) (3.13.0)\n",
      "Requirement already satisfied: MarkupSafe>=2.0 in c:\\users\\91789\\appdata\\roaming\\python\\python39\\site-packages (from Jinja2<4,>=3.0->mlflow) (2.1.2)\n",
      "Collecting pyparsing>=2.3.1\n",
      "  Using cached pyparsing-3.0.9-py3-none-any.whl (98 kB)\n",
      "Collecting cycler>=0.10\n",
      "  Using cached cycler-0.11.0-py3-none-any.whl (6.4 kB)\n",
      "Requirement already satisfied: pillow>=6.2.0 in c:\\users\\91789\\appdata\\roaming\\python\\python39\\site-packages (from matplotlib<4->mlflow) (9.4.0)\n",
      "Collecting importlib-resources>=3.2.0\n",
      "  Using cached importlib_resources-5.10.2-py3-none-any.whl (34 kB)\n",
      "Collecting contourpy>=1.0.1\n",
      "  Using cached contourpy-1.0.7-cp39-cp39-win_amd64.whl (160 kB)\n",
      "Collecting fonttools>=4.22.0\n",
      "  Using cached fonttools-4.38.0-py3-none-any.whl (965 kB)\n",
      "Collecting kiwisolver>=1.0.1\n",
      "  Using cached kiwisolver-1.4.4-cp39-cp39-win_amd64.whl (55 kB)\n",
      "Requirement already satisfied: idna<4,>=2.5 in c:\\python39\\lib\\site-packages (from requests<3,>=2.17.3->mlflow) (2.10)\n",
      "Requirement already satisfied: charset-normalizer<4,>=2 in c:\\python39\\lib\\site-packages (from requests<3,>=2.17.3->mlflow) (3.0.1)\n",
      "Requirement already satisfied: certifi>=2017.4.17 in c:\\python39\\lib\\site-packages (from requests<3,>=2.17.3->mlflow) (2020.12.5)\n",
      "Collecting joblib>=1.1.1\n",
      "  Using cached joblib-1.2.0-py3-none-any.whl (297 kB)\n",
      "Collecting threadpoolctl>=2.0.0\n",
      "  Using cached threadpoolctl-3.1.0-py3-none-any.whl (14 kB)\n",
      "Collecting numpy<2\n",
      "  Using cached numpy-1.22.4-cp39-cp39-win_amd64.whl (14.7 MB)\n",
      "Collecting tqdm>4.25.0\n",
      "  Using cached tqdm-4.64.1-py2.py3-none-any.whl (78 kB)\n",
      "Collecting slicer==0.0.7\n",
      "  Using cached slicer-0.0.7-py3-none-any.whl (14 kB)\n",
      "Collecting numba\n",
      "  Using cached numba-0.56.4-cp39-cp39-win_amd64.whl (2.5 MB)\n",
      "Collecting greenlet!=0.4.17\n",
      "  Using cached greenlet-2.0.2-cp39-cp39-win_amd64.whl (192 kB)\n",
      "Requirement already satisfied: smmap<6,>=3.0.1 in c:\\users\\91789\\appdata\\roaming\\python\\python39\\site-packages (from gitdb<5,>=4.0.1->gitpython<4,>=2.1.0->mlflow) (5.0.0)\n",
      "Requirement already satisfied: setuptools in c:\\python39\\lib\\site-packages (from numba->shap<1,>=0.40->mlflow) (49.2.1)\n",
      "Collecting llvmlite<0.40,>=0.39.0dev0\n",
      "  Using cached llvmlite-0.39.1-cp39-cp39-win_amd64.whl (23.2 MB)\n",
      "Installing collected packages: waitress, tqdm, threadpoolctl, tabulate, sqlparse, slicer, querystring-parser, pyparsing, pyjwt, packaging, oauthlib, numpy, llvmlite, kiwisolver, joblib, importlib-resources, importlib-metadata, greenlet, fonttools, cycler, cloudpickle, sqlalchemy, pyarrow, numba, markdown, docker, databricks-cli, contourpy, scikit-learn, matplotlib, shap, mlflow\n",
      "  Attempting uninstall: packaging\n",
      "    Found existing installation: packaging 23.0\n",
      "    Uninstalling packaging-23.0:\n",
      "      Successfully uninstalled packaging-23.0\n",
      "  Attempting uninstall: importlib-metadata\n",
      "    Found existing installation: importlib-metadata 6.0.0\n",
      "    Uninstalling importlib-metadata-6.0.0:\n",
      "      Successfully uninstalled importlib-metadata-6.0.0\n",
      "  Attempting uninstall: pyarrow\n",
      "    Found existing installation: pyarrow 11.0.0\n",
      "    Uninstalling pyarrow-11.0.0:\n",
      "      Successfully uninstalled pyarrow-11.0.0\n",
      "Successfully installed cloudpickle-2.2.1 contourpy-1.0.7 cycler-0.11.0 databricks-cli-0.17.4 docker-6.0.1 fonttools-4.38.0 greenlet-2.0.2 importlib-metadata-5.2.0 importlib-resources-5.10.2 joblib-1.2.0 kiwisolver-1.4.4 llvmlite-0.39.1 markdown-3.4.1 matplotlib-3.7.0 mlflow-2.1.1 numba-0.56.4 numpy-1.22.4 oauthlib-3.2.2 packaging-22.0 pyarrow-10.0.1 pyjwt-2.6.0 pyparsing-3.0.9 querystring-parser-1.2.4 scikit-learn-1.2.1 shap-0.41.0 slicer-0.0.7 sqlalchemy-1.4.46 sqlparse-0.4.3 tabulate-0.9.0 threadpoolctl-3.1.0 tqdm-4.64.1 waitress-2.1.2\n",
      "\n"
     ]
    },
    {
     "name": "stderr",
     "output_type": "stream",
     "text": [
      "WARNING: Ignoring invalid distribution -umpy (c:\\python39\\lib\\site-packages)\n",
      "WARNING: Ignoring invalid distribution -ip (c:\\python39\\lib\\site-packages)\n",
      "WARNING: Ignoring invalid distribution -umpy (c:\\python39\\lib\\site-packages)\n",
      "WARNING: Ignoring invalid distribution -ip (c:\\python39\\lib\\site-packages)\n",
      "WARNING: Ignoring invalid distribution -umpy (c:\\python39\\lib\\site-packages)\n",
      "WARNING: Ignoring invalid distribution -ip (c:\\python39\\lib\\site-packages)\n",
      "  WARNING: The script waitress-serve.exe is installed in 'C:\\Users\\91789\\AppData\\Roaming\\Python\\Python39\\Scripts' which is not on PATH.\n",
      "  Consider adding this directory to PATH or, if you prefer to suppress this warning, use --no-warn-script-location.\n",
      "  WARNING: The script tqdm.exe is installed in 'C:\\Users\\91789\\AppData\\Roaming\\Python\\Python39\\Scripts' which is not on PATH.\n",
      "  Consider adding this directory to PATH or, if you prefer to suppress this warning, use --no-warn-script-location.\n",
      "  WARNING: The script tabulate.exe is installed in 'C:\\Users\\91789\\AppData\\Roaming\\Python\\Python39\\Scripts' which is not on PATH.\n",
      "  Consider adding this directory to PATH or, if you prefer to suppress this warning, use --no-warn-script-location.\n",
      "  WARNING: The script sqlformat.exe is installed in 'C:\\Users\\91789\\AppData\\Roaming\\Python\\Python39\\Scripts' which is not on PATH.\n",
      "  Consider adding this directory to PATH or, if you prefer to suppress this warning, use --no-warn-script-location.\n",
      "  WARNING: The script f2py.exe is installed in 'C:\\Users\\91789\\AppData\\Roaming\\Python\\Python39\\Scripts' which is not on PATH.\n",
      "  Consider adding this directory to PATH or, if you prefer to suppress this warning, use --no-warn-script-location.\n",
      "  WARNING: The scripts fonttools.exe, pyftmerge.exe, pyftsubset.exe and ttx.exe are installed in 'C:\\Users\\91789\\AppData\\Roaming\\Python\\Python39\\Scripts' which is not on PATH.\n",
      "  Consider adding this directory to PATH or, if you prefer to suppress this warning, use --no-warn-script-location.\n",
      "  WARNING: The script plasma_store.exe is installed in 'C:\\Users\\91789\\AppData\\Roaming\\Python\\Python39\\Scripts' which is not on PATH.\n",
      "  Consider adding this directory to PATH or, if you prefer to suppress this warning, use --no-warn-script-location.\n",
      "  WARNING: The script markdown_py.exe is installed in 'C:\\Users\\91789\\AppData\\Roaming\\Python\\Python39\\Scripts' which is not on PATH.\n",
      "  Consider adding this directory to PATH or, if you prefer to suppress this warning, use --no-warn-script-location.\n",
      "  WARNING: The scripts databricks.exe and dbfs.exe are installed in 'C:\\Users\\91789\\AppData\\Roaming\\Python\\Python39\\Scripts' which is not on PATH.\n",
      "  Consider adding this directory to PATH or, if you prefer to suppress this warning, use --no-warn-script-location.\n",
      "  WARNING: The script mlflow.exe is installed in 'C:\\Users\\91789\\AppData\\Roaming\\Python\\Python39\\Scripts' which is not on PATH.\n",
      "  Consider adding this directory to PATH or, if you prefer to suppress this warning, use --no-warn-script-location.\n",
      "WARNING: Ignoring invalid distribution -umpy (c:\\python39\\lib\\site-packages)\n",
      "WARNING: Ignoring invalid distribution -ip (c:\\python39\\lib\\site-packages)\n"
     ]
    }
   ],
   "source": [
    "%pip install mlflow --user"
   ]
  },
  {
   "cell_type": "code",
   "execution_count": 4,
   "id": "f2dd9025",
   "metadata": {},
   "outputs": [],
   "source": [
    "import mlflow\n",
    "import os"
   ]
  },
  {
   "attachments": {},
   "cell_type": "markdown",
   "id": "47e231bd",
   "metadata": {},
   "source": [
    "## Set the experiment\n",
    "    1. Set the name to define where we are going to perform all the work "
   ]
  },
  {
   "cell_type": "code",
   "execution_count": 5,
   "id": "29edfc7c",
   "metadata": {},
   "outputs": [
    {
     "name": "stderr",
     "output_type": "stream",
     "text": [
      "2023/02/17 12:28:25 INFO mlflow.tracking.fluent: Experiment with name 'loan_status' does not exist. Creating a new experiment.\n"
     ]
    },
    {
     "data": {
      "text/plain": [
       "<Experiment: artifact_location='file:///f:/dsml_MLflow/mlruns/523387048654800761', creation_time=1676617105493, experiment_id='523387048654800761', last_update_time=1676617105493, lifecycle_stage='active', name='loan_status', tags={}>"
      ]
     },
     "execution_count": 5,
     "metadata": {},
     "output_type": "execute_result"
    }
   ],
   "source": [
    "mlflow.set_experiment('loan_status')"
   ]
  },
  {
   "cell_type": "code",
   "execution_count": 19,
   "id": "2a1a31f6",
   "metadata": {},
   "outputs": [
    {
     "name": "stderr",
     "output_type": "stream",
     "text": [
      "c:\\Python39\\lib\\site-packages\\setuptools\\distutils_patch.py:25: UserWarning: Distutils was imported before Setuptools. This usage is discouraged and may exhibit undesirable behaviors or errors. Please use Setuptools' objects directly or at least import Setuptools first.\n",
      "  warnings.warn(\n"
     ]
    }
   ],
   "source": [
    "with mlflow.start_run():\n",
    "    ## training the model\n",
    "    model_rf = RandomForestClassifier(max_depth=4, random_state=5)\n",
    "    model_rf.fit(X_train, y_train)\n",
    "\n",
    "    ## capturing validation accuracy\n",
    "    pred_val = model_rf.predict(X_val)\n",
    "    val_acc = accuracy_score(y_val, pred_val)\n",
    "\n",
    "    ## capturing training accuracy\n",
    "    pred_train = model_rf.predict(X_train)\n",
    "    train_acc = accuracy_score(y_train, pred_train)\n",
    "\n",
    "    mlflow.set_tag('mlflow.runName', 'first_run')\n",
    "    mlflow.log_param('max_depth', 4)\n",
    "    mlflow.log_metric('val_acc', val_acc)\n",
    "    mlflow.log_metric('train_acc', train_acc)\n",
    "\n",
    "    mlflow.sklearn.log_model(model_rf, 'model')"
   ]
  },
  {
   "attachments": {},
   "cell_type": "markdown",
   "id": "9d0f42a3",
   "metadata": {},
   "source": [
    "## Training on a new dataset\n"
   ]
  },
  {
   "cell_type": "code",
   "execution_count": 20,
   "id": "aaab9ed0",
   "metadata": {},
   "outputs": [
    {
     "data": {
      "text/html": [
       "<div>\n",
       "<style scoped>\n",
       "    .dataframe tbody tr th:only-of-type {\n",
       "        vertical-align: middle;\n",
       "    }\n",
       "\n",
       "    .dataframe tbody tr th {\n",
       "        vertical-align: top;\n",
       "    }\n",
       "\n",
       "    .dataframe thead th {\n",
       "        text-align: right;\n",
       "    }\n",
       "</style>\n",
       "<table border=\"1\" class=\"dataframe\">\n",
       "  <thead>\n",
       "    <tr style=\"text-align: right;\">\n",
       "      <th></th>\n",
       "      <th>Loan_ID</th>\n",
       "      <th>Gender</th>\n",
       "      <th>Married</th>\n",
       "      <th>Dependents</th>\n",
       "      <th>Education</th>\n",
       "      <th>Self_Employed</th>\n",
       "      <th>ApplicantIncome</th>\n",
       "      <th>CoapplicantIncome</th>\n",
       "      <th>LoanAmount</th>\n",
       "      <th>Loan_Amount_Term</th>\n",
       "      <th>Credit_History</th>\n",
       "      <th>Property_Area</th>\n",
       "      <th>Loan_Status</th>\n",
       "    </tr>\n",
       "  </thead>\n",
       "  <tbody>\n",
       "    <tr>\n",
       "      <th>0</th>\n",
       "      <td>LP001002</td>\n",
       "      <td>Male</td>\n",
       "      <td>No</td>\n",
       "      <td>0</td>\n",
       "      <td>Graduate</td>\n",
       "      <td>No</td>\n",
       "      <td>5849</td>\n",
       "      <td>0.0</td>\n",
       "      <td>NaN</td>\n",
       "      <td>360.0</td>\n",
       "      <td>1.0</td>\n",
       "      <td>Urban</td>\n",
       "      <td>Y</td>\n",
       "    </tr>\n",
       "    <tr>\n",
       "      <th>1</th>\n",
       "      <td>LP001003</td>\n",
       "      <td>Male</td>\n",
       "      <td>Yes</td>\n",
       "      <td>1</td>\n",
       "      <td>Graduate</td>\n",
       "      <td>No</td>\n",
       "      <td>4583</td>\n",
       "      <td>1508.0</td>\n",
       "      <td>128.0</td>\n",
       "      <td>360.0</td>\n",
       "      <td>1.0</td>\n",
       "      <td>Rural</td>\n",
       "      <td>N</td>\n",
       "    </tr>\n",
       "    <tr>\n",
       "      <th>2</th>\n",
       "      <td>LP001005</td>\n",
       "      <td>Male</td>\n",
       "      <td>Yes</td>\n",
       "      <td>0</td>\n",
       "      <td>Graduate</td>\n",
       "      <td>Yes</td>\n",
       "      <td>3000</td>\n",
       "      <td>0.0</td>\n",
       "      <td>66.0</td>\n",
       "      <td>360.0</td>\n",
       "      <td>1.0</td>\n",
       "      <td>Urban</td>\n",
       "      <td>Y</td>\n",
       "    </tr>\n",
       "    <tr>\n",
       "      <th>3</th>\n",
       "      <td>LP001006</td>\n",
       "      <td>Male</td>\n",
       "      <td>Yes</td>\n",
       "      <td>0</td>\n",
       "      <td>Not Graduate</td>\n",
       "      <td>No</td>\n",
       "      <td>2583</td>\n",
       "      <td>2358.0</td>\n",
       "      <td>120.0</td>\n",
       "      <td>360.0</td>\n",
       "      <td>1.0</td>\n",
       "      <td>Urban</td>\n",
       "      <td>Y</td>\n",
       "    </tr>\n",
       "    <tr>\n",
       "      <th>4</th>\n",
       "      <td>LP001008</td>\n",
       "      <td>Male</td>\n",
       "      <td>No</td>\n",
       "      <td>0</td>\n",
       "      <td>Graduate</td>\n",
       "      <td>No</td>\n",
       "      <td>6000</td>\n",
       "      <td>0.0</td>\n",
       "      <td>141.0</td>\n",
       "      <td>360.0</td>\n",
       "      <td>1.0</td>\n",
       "      <td>Urban</td>\n",
       "      <td>Y</td>\n",
       "    </tr>\n",
       "  </tbody>\n",
       "</table>\n",
       "</div>"
      ],
      "text/plain": [
       "    Loan_ID Gender Married Dependents     Education Self_Employed  \\\n",
       "0  LP001002   Male      No          0      Graduate            No   \n",
       "1  LP001003   Male     Yes          1      Graduate            No   \n",
       "2  LP001005   Male     Yes          0      Graduate           Yes   \n",
       "3  LP001006   Male     Yes          0  Not Graduate            No   \n",
       "4  LP001008   Male      No          0      Graduate            No   \n",
       "\n",
       "   ApplicantIncome  CoapplicantIncome  LoanAmount  Loan_Amount_Term  \\\n",
       "0             5849                0.0         NaN             360.0   \n",
       "1             4583             1508.0       128.0             360.0   \n",
       "2             3000                0.0        66.0             360.0   \n",
       "3             2583             2358.0       120.0             360.0   \n",
       "4             6000                0.0       141.0             360.0   \n",
       "\n",
       "   Credit_History Property_Area Loan_Status  \n",
       "0             1.0         Urban           Y  \n",
       "1             1.0         Rural           N  \n",
       "2             1.0         Urban           Y  \n",
       "3             1.0         Urban           Y  \n",
       "4             1.0         Urban           Y  "
      ]
     },
     "execution_count": 20,
     "metadata": {},
     "output_type": "execute_result"
    }
   ],
   "source": [
    "train_df = pd.read_csv('data_new.csv')\n",
    "train_df.head()"
   ]
  },
  {
   "cell_type": "code",
   "execution_count": 21,
   "id": "fe06cdaa",
   "metadata": {},
   "outputs": [],
   "source": [
    "train_df['Gender'] = train_df['Gender'].map({'Male':0, 'Female':1})\n",
    "train_df['Married'] = train_df['Married'].map({'No':0, 'Yes':1})\n",
    "train_df['Loan_Status'] = train_df['Loan_Status'].map({'N':0, 'Y':1})\n",
    "\n",
    "train_df = train_df.dropna()\n",
    "\n",
    "X = train_df[['Gender', 'Married', 'ApplicantIncome', 'LoanAmount', 'Credit_History']]\n",
    "y = train_df.Loan_Status\n",
    "X.shape, y.shape\n",
    "\n",
    "from sklearn.model_selection import train_test_split\n",
    "\n",
    "X_train, X_val, y_train, y_val = train_test_split(X, y, test_size = 0.2, random_state =5)\n"
   ]
  },
  {
   "cell_type": "code",
   "execution_count": 22,
   "id": "3ed82161",
   "metadata": {},
   "outputs": [],
   "source": [
    "with mlflow.start_run():\n",
    "    ## training the model\n",
    "    model_rf = RandomForestClassifier(max_depth=4, random_state=5)\n",
    "    model_rf.fit(X_train, y_train)\n",
    "\n",
    "    ## capturing validation accuracy\n",
    "    pred_val = model_rf.predict(X_val)\n",
    "    val_acc = accuracy_score(y_val, pred_val)\n",
    "\n",
    "    ## capturing training accuracy\n",
    "    pred_train = model_rf.predict(X_train)\n",
    "    train_acc = accuracy_score(y_train, pred_train)\n",
    "\n",
    "    mlflow.set_tag('mlflow.runName', 'new_data_version')\n",
    "    mlflow.log_param('max_depth', 4)\n",
    "    mlflow.log_metric('val_acc', val_acc)\n",
    "    mlflow.log_metric('train_acc', train_acc)\n",
    "\n",
    "    mlflow.sklearn.log_model(model_rf, 'model')"
   ]
  },
  {
   "attachments": {},
   "cell_type": "markdown",
   "id": "e9f19f14",
   "metadata": {},
   "source": [
    "## Hyperparameter tuning with MLflow"
   ]
  },
  {
   "cell_type": "code",
   "execution_count": 23,
   "id": "61c5b239",
   "metadata": {},
   "outputs": [],
   "source": [
    "def mlflow_runs(n_est, max_dep, i):\n",
    "    with mlflow.start_run():\n",
    "        ## training the model\n",
    "        model_rf = RandomForestClassifier(n_estimators=n_est,\n",
    "                        max_depth=max_dep, random_state=5)\n",
    "        model_rf.fit(X_train, y_train)\n",
    "\n",
    "        ## capturing validation accuracy\n",
    "        pred_val = model_rf.predict(X_val)\n",
    "        val_acc = accuracy_score(y_val, pred_val)\n",
    "\n",
    "        ## capturing training accuracy\n",
    "        pred_train = model_rf.predict(X_train)\n",
    "        train_acc = accuracy_score(y_train, pred_train)\n",
    "\n",
    "        run_name = f\"hyperparameter_tuning_{i}\"\n",
    "\n",
    "        mlflow.set_tag('mlflow.runName', run_name)\n",
    "        mlflow.log_param('n_estimators', n_est)\n",
    "        mlflow.log_param('max_depth', max_dep)\n",
    "        mlflow.log_metric('val_acc', val_acc)\n",
    "        mlflow.log_metric('train_acc', train_acc)\n",
    "        mlflow.set_tag('data_file', 'data_new.csv')\n",
    "\n",
    "        mlflow.sklearn.log_model(model_rf, 'model')"
   ]
  },
  {
   "cell_type": "code",
   "execution_count": 24,
   "id": "b7250800",
   "metadata": {},
   "outputs": [],
   "source": [
    "mlflow_runs(10, 2, 1)\n",
    "mlflow_runs(20, 2, 2)\n",
    "mlflow_runs(30, 2, 3)\n",
    "mlflow_runs(40, 2, 4)\n",
    "mlflow_runs(10, 4, 5)\n",
    "mlflow_runs(20, 4, 6)\n",
    "mlflow_runs(30, 4, 7)\n",
    "mlflow_runs(40, 4, 8)\n",
    "mlflow_runs(10, 8, 9)\n",
    "mlflow_runs(20, 8, 10)\n",
    "mlflow_runs(30, 8, 11)\n",
    "mlflow_runs(40, 8, 12)"
   ]
  },
  {
   "attachments": {},
   "cell_type": "markdown",
   "id": "0fc6180f",
   "metadata": {},
   "source": [
    "## Trying a different model - KNN"
   ]
  },
  {
   "cell_type": "code",
   "execution_count": 27,
   "id": "431ec630",
   "metadata": {},
   "outputs": [
    {
     "ename": "TypeError",
     "evalue": "__init__() got an unexpected keyword argument 'random_state'",
     "output_type": "error",
     "traceback": [
      "\u001b[1;31m---------------------------------------------------------------------------\u001b[0m",
      "\u001b[1;31mTypeError\u001b[0m                                 Traceback (most recent call last)",
      "Cell \u001b[1;32mIn[27], line 7\u001b[0m\n\u001b[0;32m      3\u001b[0m \u001b[39mfrom\u001b[39;00m \u001b[39msklearn\u001b[39;00m\u001b[39m.\u001b[39;00m\u001b[39mmetrics\u001b[39;00m \u001b[39mimport\u001b[39;00m ConfusionMatrixDisplay\n\u001b[0;32m      5\u001b[0m \u001b[39mwith\u001b[39;00m mlflow\u001b[39m.\u001b[39mstart_run():\n\u001b[0;32m      6\u001b[0m     \u001b[39m## training the model\u001b[39;00m\n\u001b[1;32m----> 7\u001b[0m     knn_model \u001b[39m=\u001b[39m KNeighborsClassifier(n_neighbors\u001b[39m=\u001b[39;49m\u001b[39m4\u001b[39;49m, random_state\u001b[39m=\u001b[39;49m\u001b[39m5\u001b[39;49m)\n\u001b[0;32m      8\u001b[0m     knn_model\u001b[39m.\u001b[39mfit(X_train, y_train)\n\u001b[0;32m     10\u001b[0m     \u001b[39m## capturing validation accuracy\u001b[39;00m\n",
      "\u001b[1;31mTypeError\u001b[0m: __init__() got an unexpected keyword argument 'random_state'"
     ]
    }
   ],
   "source": [
    "from sklearn.neighbors import KNeighborsClassifier\n",
    "import matplotlib.pyplot as plt\n",
    "from sklearn.metrics import ConfusionMatrixDisplay\n",
    "\n",
    "with mlflow.start_run():\n",
    "    ## training the model\n",
    "    knn_model = KNeighborsClassifier(n_neighbors=4)\n",
    "    knn_model.fit(X_train, y_train)\n",
    "\n",
    "    ## capturing validation accuracy\n",
    "    pred_val = knn_model.predict(X_val)\n",
    "    val_acc = accuracy_score(y_val, pred_val)\n",
    "\n",
    "    ## capturing training accuracy\n",
    "    pred_train = knn_model.predict(X_train)\n",
    "    train_acc = accuracy_score(y_train, pred_train)\n",
    "\n",
    "    mlflow.set_tag('mlflow.runName', 'knn')\n",
    "    mlflow.log_param('neighbors', 5)\n",
    "    mlflow.log_metric('val_acc', val_acc)\n",
    "    mlflow.log_metric('train_acc', train_acc)\n",
    "    mlflow.set_tag('data_file', 'data_new.csv')\n",
    "\n",
    "    cm = ConfusionMatrixDisplay.from_prediction(y_val, pred_val)\n",
    "    cm.figure_.savefig(\"confusion_mat.png\")\n",
    "    mlflow.log_artifact(\"confusion_mat.png\")\n",
    "\n",
    "\n",
    "    mlflow.sklearn.log_model(knn_model, 'model')"
   ]
  }
 ],
 "metadata": {
  "kernelspec": {
   "display_name": "Python 3",
   "language": "python",
   "name": "python3"
  },
  "language_info": {
   "codemirror_mode": {
    "name": "ipython",
    "version": 3
   },
   "file_extension": ".py",
   "mimetype": "text/x-python",
   "name": "python",
   "nbconvert_exporter": "python",
   "pygments_lexer": "ipython3",
   "version": "3.9.0"
  },
  "vscode": {
   "interpreter": {
    "hash": "81794d4967e6c3204c66dcd87b604927b115b27c00565d3d43f05ba2f3a2cb0d"
   }
  }
 },
 "nbformat": 4,
 "nbformat_minor": 5
}
